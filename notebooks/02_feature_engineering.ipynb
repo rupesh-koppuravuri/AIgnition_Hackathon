{
 "cells": [
  {
   "cell_type": "markdown",
   "id": "7e6cd807",
   "metadata": {},
   "source": [
    "## Phase 1 – Step 1.3 : Feature Engineering\n"
   ]
  },
  {
   "cell_type": "markdown",
   "id": "982f6383",
   "metadata": {},
   "source": [
    "sanity check"
   ]
  },
  {
   "cell_type": "code",
   "execution_count": 2,
   "id": "8f9a09ee",
   "metadata": {},
   "outputs": [
    {
     "name": "stdout",
     "output_type": "stream",
     "text": [
      "CWD → c:\\Users\\koppu\\AIgnition_Hackathon\\notebooks\n",
      "Exists? False\n"
     ]
    }
   ],
   "source": [
    "from pathlib import Path\n",
    "print(\"CWD →\", Path.cwd())                  # confirm you are in notebooks/\n",
    "print(\"Exists?\", (PARQUET_DIR / \"sessions.parquet\").exists())\n"
   ]
  },
  {
   "cell_type": "markdown",
   "id": "0177a33b",
   "metadata": {},
   "source": [
    "Load the session data"
   ]
  },
  {
   "cell_type": "code",
   "execution_count": 3,
   "id": "41656ae9",
   "metadata": {},
   "outputs": [
    {
     "name": "stdout",
     "output_type": "stream",
     "text": [
      "1004534 sessions loaded\n"
     ]
    }
   ],
   "source": [
    "from pathlib import Path\n",
    "import pandas as pd\n",
    "\n",
    "PARQUET_DIR = Path(\"../data/parquet\")       # <- go up one level\n",
    "sessions = pd.read_parquet(PARQUET_DIR / \"sessions.parquet\", engine=\"pyarrow\")\n",
    "\n",
    "print(len(sessions), \"sessions loaded\")     # should print ≈1 004 534\n"
   ]
  },
  {
   "cell_type": "markdown",
   "id": "13d8a614",
   "metadata": {},
   "source": [
    "Session-level features"
   ]
  },
  {
   "cell_type": "code",
   "execution_count": 4,
   "id": "06e93230",
   "metadata": {},
   "outputs": [],
   "source": [
    "# duration in minutes\n",
    "sessions[\"session_duration_min\"] = (\n",
    "    (sessions[\"session_end\"] - sessions[\"session_start\"])\n",
    "      .dt.total_seconds() / 60\n",
    ")\n",
    "\n",
    "# day-part\n",
    "def day_part(h):\n",
    "    if 5 <= h < 12:  return \"morning\"\n",
    "    if 12 <= h < 17: return \"afternoon\"\n",
    "    if 17 <= h < 21: return \"evening\"\n",
    "    return \"night\"\n",
    "\n",
    "sessions[\"day_part\"] = sessions[\"session_start\"].dt.hour.map(day_part)\n",
    "\n",
    "# weekday flag\n",
    "sessions[\"is_weekend\"] = sessions[\"session_start\"].dt.dayofweek.isin([5, 6])\n"
   ]
  },
  {
   "cell_type": "markdown",
   "id": "570a97eb",
   "metadata": {},
   "source": [
    "User-level RFM block"
   ]
  },
  {
   "cell_type": "code",
   "execution_count": 5,
   "id": "98d3fe7a",
   "metadata": {},
   "outputs": [],
   "source": [
    "ref_date = sessions[\"session_end\"].max() + pd.Timedelta(days=1)\n",
    "\n",
    "rfm = (\n",
    "    sessions.groupby(\"user_pseudo_id\")\n",
    "            .agg(recency_days   = (\"session_end\",\n",
    "                                    lambda x: (ref_date - x.max()).days),\n",
    "                 frequency      = (\"session_id\", \"nunique\"),\n",
    "                 monetary_value = (\"revenue\", \"sum\"),\n",
    "                 avg_session_min= (\"session_duration_min\", \"mean\"))\n",
    "            .reset_index()\n",
    ")\n"
   ]
  },
  {
   "cell_type": "markdown",
   "id": "3d87674e",
   "metadata": {},
   "source": [
    "Merge back to sessions"
   ]
  },
  {
   "cell_type": "code",
   "execution_count": 6,
   "id": "75570e17",
   "metadata": {},
   "outputs": [
    {
     "name": "stdout",
     "output_type": "stream",
     "text": [
      "feature table: (1004534, 14)\n"
     ]
    }
   ],
   "source": [
    "features = sessions.merge(rfm, on=\"user_pseudo_id\", how=\"left\")\n",
    "print(\"feature table:\", features.shape)\n"
   ]
  },
  {
   "cell_type": "markdown",
   "id": "b0265a69",
   "metadata": {},
   "source": [
    "Save and verify"
   ]
  },
  {
   "cell_type": "code",
   "execution_count": 7,
   "id": "a5f653e2",
   "metadata": {},
   "outputs": [
    {
     "name": "stdout",
     "output_type": "stream",
     "text": [
      "schema ➜ user_pseudo_id: string\n",
      "session_id: int64\n",
      "page_views: int64\n",
      "session_start: timestamp[ns, tz=UTC]\n",
      "session_end: timestamp[ns, tz=UTC]\n",
      "revenue: double\n",
      "items: double\n",
      "session_duration_min: double\n",
      "day_part: string\n",
      "is_weekend: bool\n",
      "recency_days: int64\n",
      "frequency: int64\n",
      "monetary_value: double\n",
      "avg_session_min: double\n",
      "-- schema metadata --\n",
      "pandas: '{\"index_columns\": [], \"column_indexes\": [], \"columns\": [{\"name\":' + 1831\n"
     ]
    }
   ],
   "source": [
    "features.to_parquet(PARQUET_DIR / \"features.parquet\",\n",
    "                    engine=\"pyarrow\", index=False)\n",
    "\n",
    "import pyarrow.parquet as pq\n",
    "print(\"schema ➜\", pq.read_table(PARQUET_DIR / \"features.parquet\").schema)\n"
   ]
  },
  {
   "cell_type": "markdown",
   "id": "1d231df2",
   "metadata": {},
   "source": [
    "Document the feature dictionary"
   ]
  },
  {
   "cell_type": "markdown",
   "id": "8934717d",
   "metadata": {},
   "source": [
    "recency_days        : days since last session  \n",
    "frequency           : # sessions per user  \n",
    "monetary_value      : total revenue per user  \n",
    "avg_session_min     : average session length  \n",
    "session_duration_min: length of this session  \n",
    "day_part            : morning / afternoon / evening / night  \n",
    "is_weekend          : Boolean  \n",
    "page_views, revenue : carried from Step 1.2\n"
   ]
  },
  {
   "cell_type": "code",
   "execution_count": 9,
   "id": "6f04b365",
   "metadata": {},
   "outputs": [
    {
     "name": "stdout",
     "output_type": "stream",
     "text": [
      "rows → 1004534\n"
     ]
    }
   ],
   "source": [
    "import pandas as pd, pyarrow.parquet as pq, pathlib\n",
    "f = pathlib.Path(\"../data/parquet/features.parquet\")\n",
    "assert f.exists(), \"features.parquet missing\"\n",
    "print(\"rows →\", pq.read_table(f).num_rows)\n"
   ]
  },
  {
   "cell_type": "code",
   "execution_count": null,
   "id": "31e5e0a0",
   "metadata": {},
   "outputs": [],
   "source": []
  }
 ],
 "metadata": {
  "kernelspec": {
   "display_name": "aignition",
   "language": "python",
   "name": "python3"
  },
  "language_info": {
   "codemirror_mode": {
    "name": "ipython",
    "version": 3
   },
   "file_extension": ".py",
   "mimetype": "text/x-python",
   "name": "python",
   "nbconvert_exporter": "python",
   "pygments_lexer": "ipython3",
   "version": "3.10.16"
  }
 },
 "nbformat": 4,
 "nbformat_minor": 5
}
