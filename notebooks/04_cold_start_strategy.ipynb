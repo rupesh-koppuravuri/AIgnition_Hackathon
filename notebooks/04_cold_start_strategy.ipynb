{
 "cells": [
  {
   "cell_type": "markdown",
   "id": "53dcfb5e",
   "metadata": {},
   "source": [
    "## Phase 2 – Step 2.3 : Cold-Start Mapping & Fallbacks  \n",
    "**Goal** Map anonymous / first-session users to one of the five K-means segments using only attributes available on the very first page-view (Age, traffic source, country).  \n"
   ]
  },
  {
   "cell_type": "code",
   "execution_count": 1,
   "id": "9286dc4a",
   "metadata": {},
   "outputs": [
    {
     "name": "stdout",
     "output_type": "stream",
     "text": [
      "✅ Segmented users loaded: (836214, 8)\n"
     ]
    }
   ],
   "source": [
    "# Cell 1: Enhanced Imports & Paths\n",
    "import pandas as pd, numpy as np, yaml, joblib, pathlib\n",
    "from collections import defaultdict\n",
    "from sklearn.tree import DecisionTreeClassifier, export_text\n",
    "from sklearn.model_selection import train_test_split\n",
    "\n",
    "ROOT = pathlib.Path(\"..\")\n",
    "PARQUET_DIR = ROOT / \"data\" / \"parquet\"\n",
    "CONFIG_DIR = ROOT / \"config\"\n",
    "CONFIG_DIR.mkdir(exist_ok=True)\n",
    "\n",
    "# Load new segmentation data\n",
    "seg_map = pd.read_parquet(PARQUET_DIR / \"segmented_users.parquet\")\n",
    "print(\"✅ Segmented users loaded:\", seg_map.shape)\n"
   ]
  },
  {
   "cell_type": "code",
   "execution_count": 2,
   "id": "ad889d24",
   "metadata": {},
   "outputs": [
    {
     "name": "stdout",
     "output_type": "stream",
     "text": [
      "Enhanced events+seg → (4149078, 7)\n"
     ]
    }
   ],
   "source": [
    "# Cell 2: Enhanced Event-Segment Mapping\n",
    "event_cols = [\"user_pseudo_id\", \"Age\", \"source\", \"region\", \"category\", \"transaction_id\"]\n",
    "events = pd.read_parquet(\n",
    "    list(PARQUET_DIR.glob(\"dataset1_final_part*.parquet\")),\n",
    "    columns=event_cols\n",
    ").drop_duplicates().fillna(\"Unknown\")\n",
    "\n",
    "# Merge with new segmentation\n",
    "events = events.merge(\n",
    "    seg_map[[\"user_pseudo_id\", \"segment\"]], \n",
    "    on=\"user_pseudo_id\", \n",
    "    how=\"inner\"\n",
    ")\n",
    "print(\"Enhanced events+seg →\", events.shape)\n"
   ]
  },
  {
   "cell_type": "code",
   "execution_count": 3,
   "id": "8ba64203",
   "metadata": {},
   "outputs": [
    {
     "name": "stdout",
     "output_type": "stream",
     "text": [
      "Building enhanced rule table...\n",
      "Distinct rules: 48005\n",
      "✅ Enhanced rule config saved\n"
     ]
    }
   ],
   "source": [
    "# Cell 3: Multi-Attribute Rule Engine\n",
    "print(\"Building enhanced rule table...\")\n",
    "rule_tbl = (\n",
    "    events.groupby([\"region\", \"category\", \"Age\", \"source\"])[\"segment\"]\n",
    "    .agg(lambda x: x.mode()[0] if not x.empty else 4)\n",
    "    .reset_index()\n",
    ")\n",
    "print(\"Distinct rules:\", len(rule_tbl))\n",
    "\n",
    "# Build nested fallback structure\n",
    "nested = defaultdict(dict)\n",
    "for _, r in rule_tbl.iterrows():\n",
    "    region_dict = nested.setdefault(r[\"region\"], {})\n",
    "    device_dict = region_dict.setdefault(r[\"category\"], {})\n",
    "    age_dict = device_dict.setdefault(r[\"Age\"], {})\n",
    "    age_dict[r[\"source\"]] = int(r[\"segment\"])\n",
    "\n",
    "# Add global fallback\n",
    "global_fallback = int(events[\"segment\"].mode()[0])\n",
    "nested[\"fallback\"] = global_fallback\n",
    "\n",
    "# Save enhanced config\n",
    "yaml.safe_dump(dict(nested), open(CONFIG_DIR / \"enhanced_fallback.yaml\", \"w\"))\n",
    "print(\"✅ Enhanced rule config saved\")\n"
   ]
  },
  {
   "cell_type": "code",
   "execution_count": 5,
   "id": "2d39a810",
   "metadata": {},
   "outputs": [
    {
     "name": "stdout",
     "output_type": "stream",
     "text": [
      "Fixed null transactions: 0\n"
     ]
    }
   ],
   "source": [
    "# Cell 4: Transaction-Segment Mapping with Null Handling\n",
    "tx2seg = events[[\"transaction_id\", \"segment\"]].dropna().drop_duplicates()\n",
    "tx2seg[\"transaction_id\"] = tx2seg[\"transaction_id\"].astype(\"string\")\n",
    "\n",
    "purch = pd.read_parquet(PARQUET_DIR / \"dataset2_final_part000.parquet\")\n",
    "purch[\"Transaction_ID\"] = purch[\"Transaction_ID\"].astype(\"string\")\n",
    "\n",
    "purch_seg = purch.merge(\n",
    "    tx2seg, \n",
    "    left_on=\"Transaction_ID\", \n",
    "    right_on=\"transaction_id\", \n",
    "    how=\"left\"\n",
    ")\n",
    "purch_seg[\"segment\"] = purch_seg[\"segment\"].fillna(4)  # At-Risk fallback\n",
    "print(\"Fixed null transactions:\", purch_seg[\"segment\"].isnull().sum())\n"
   ]
  },
  {
   "cell_type": "code",
   "execution_count": 6,
   "id": "44524fc7",
   "metadata": {},
   "outputs": [
    {
     "name": "stdout",
     "output_type": "stream",
     "text": [
      "Region column added. Null regions: 0\n"
     ]
    }
   ],
   "source": [
    "# REVISED CELL 4: ENHANCED TRANSACTION-SEGMENT MAPPING\n",
    "# Get region from events data\n",
    "region_map = events[[\"transaction_id\", \"region\"]].dropna().drop_duplicates()\n",
    "\n",
    "# Merge region into purch_seg\n",
    "purch_seg = purch_seg.merge(\n",
    "    region_map,\n",
    "    left_on=\"Transaction_ID\",\n",
    "    right_on=\"transaction_id\",\n",
    "    how=\"left\"\n",
    ")\n",
    "\n",
    "# Fill null regions\n",
    "purch_seg[\"region\"] = purch_seg[\"region\"].fillna(\"Unknown\")\n",
    "print(\"Region column added. Null regions:\", purch_seg[\"region\"].isnull().sum())\n"
   ]
  },
  {
   "cell_type": "code",
   "execution_count": 7,
   "id": "8413f06c",
   "metadata": {},
   "outputs": [
    {
     "name": "stdout",
     "output_type": "stream",
     "text": [
      "purch_seg columns: ['Date', 'Transaction_ID', 'Item_purchase_quantity', 'Item_revenue', 'ItemName', 'ItemBrand', 'ItemCategory', 'ItemID', 'transaction_id_x', 'segment', 'transaction_id_y', 'region']\n",
      "Region values: ['Unknown' 'California' 'Florida' 'New York' 'Maryland']\n"
     ]
    }
   ],
   "source": [
    "# VERIFY COLUMNS\n",
    "print(\"purch_seg columns:\", purch_seg.columns.tolist())\n",
    "print(\"Region values:\", purch_seg[\"region\"].unique()[:5])\n"
   ]
  },
  {
   "cell_type": "code",
   "execution_count": 8,
   "id": "c53f1c0c",
   "metadata": {},
   "outputs": [
    {
     "name": "stdout",
     "output_type": "stream",
     "text": [
      "Building geo-device aware popular items...\n",
      "✅ Geo-device popular items saved\n"
     ]
    }
   ],
   "source": [
    "# Cell 5: Geo-Device Enhanced Popular Items\n",
    "print(\"Building geo-device aware popular items...\")\n",
    "popular_tbl = (\n",
    "    purch_seg.groupby([\"segment\", \"ItemID\", \"region\", \"ItemCategory\"])\n",
    "    .size().reset_index(name=\"qty\")\n",
    "    .sort_values([\"segment\", \"qty\"], ascending=[True, False])\n",
    ")\n",
    "\n",
    "# Save with new structure\n",
    "popular_tbl.to_parquet(PARQUET_DIR / \"enhanced_popular_items.parquet\", index=False)\n",
    "print(\"✅ Geo-device popular items saved\")\n"
   ]
  },
  {
   "cell_type": "code",
   "execution_count": 9,
   "id": "cccc5b34",
   "metadata": {},
   "outputs": [
    {
     "name": "stdout",
     "output_type": "stream",
     "text": [
      "✅ Real-time triggers integrated\n"
     ]
    }
   ],
   "source": [
    "# Cell 6: Real-Time Trigger Integration\n",
    "# Paid social triggers\n",
    "nested[\"PaidSocial\"] = {\"mobile\": 1, \"desktop\": 3}\n",
    "# Email triggers\n",
    "nested[\"Email\"] = {\"desktop\": 2}\n",
    "\n",
    "# Save final config\n",
    "yaml.safe_dump(dict(nested), open(CONFIG_DIR / \"final_fallback.yaml\", \"w\"))\n",
    "print(\"✅ Real-time triggers integrated\")\n"
   ]
  },
  {
   "cell_type": "markdown",
   "id": "292b1fd9",
   "metadata": {},
   "source": [
    "# Cell 7: Cold-Start Logic Documentation (Markdown)\n",
    "\"\"\"\n",
    "### Enhanced Cold-Start Logic\n",
    "1. **First Page View**: Uses `region`, `device`, `Age`, `source`  \n",
    "2. **Multi-Stage Fallback**:  \n",
    "3. **Real-Time Triggers**:  \n",
    "- Paid Social → Mobile: VIP items, Desktop: High-value items  \n",
    "- Email → Desktop: High-frequency items  \n",
    "4. **Null Handling**:  \n",
    "- Unknown regions → Global trending items  \n",
    "- Unknown devices → Region-agnostic recommendations\n",
    "\"\"\"\n"
   ]
  },
  {
   "cell_type": "code",
   "execution_count": 10,
   "id": "4edcb41a",
   "metadata": {},
   "outputs": [
    {
     "name": "stdout",
     "output_type": "stream",
     "text": [
      "Rule coverage by region:\n",
      "region\n",
      "California      1192\n",
      "New York        1021\n",
      "Texas            978\n",
      "Florida          876\n",
      "Illinois         795\n",
      "                ... \n",
      "Sing Buri          1\n",
      "Sivas              1\n",
      "Jilin              1\n",
      "Wakayama           1\n",
      "North Maluku       1\n",
      "Name: count, Length: 1593, dtype: int64\n",
      "PaidSocial+mobile → Segment 1\n",
      "Fallback segment: 2\n"
     ]
    }
   ],
   "source": [
    "# Cell 8: Validation Suite\n",
    "# 1. Rule coverage\n",
    "print(\"Rule coverage by region:\")\n",
    "print(rule_tbl[\"region\"].value_counts())\n",
    "\n",
    "# 2. Trigger test\n",
    "print(\"PaidSocial+mobile → Segment\", nested[\"PaidSocial\"][\"mobile\"])\n",
    "\n",
    "# 3. Fallback test\n",
    "print(\"Fallback segment:\", nested[\"fallback\"])\n"
   ]
  },
  {
   "cell_type": "markdown",
   "id": "04599f24",
   "metadata": {},
   "source": [
    "graph LR\n",
    "A[Load Segments] --> B[Build Rules]\n",
    "B --> C[Map Transactions]\n",
    "C --> D[Popular Items]\n",
    "D --> E[Add Triggers]\n",
    "E --> F[Validate]\n"
   ]
  },
  {
   "cell_type": "markdown",
   "id": "4db2a1c9",
   "metadata": {},
   "source": [
    "### Fallback Logic Hierarchy\n",
    "1. **Primary Signals**: region → device → age → source  \n",
    "2. **Missing Region**: Use device → age → source  \n",
    "3. **Missing Device**: Use age → source  \n",
    "4. **All Missing**: Global popular items (Segment 2)  \n",
    "5. **Real-Time Overrides**:  \n",
    "   - PaidSocial: Mobile→VIP, Desktop→High-Value  \n",
    "   - Email: Desktop→High-Frequency  \n"
   ]
  },
  {
   "cell_type": "code",
   "execution_count": 11,
   "id": "fc951d25",
   "metadata": {},
   "outputs": [
    {
     "name": "stdout",
     "output_type": "stream",
     "text": [
      "✅ Production config saved\n"
     ]
    }
   ],
   "source": [
    "# Add after Cell 6\n",
    "with open(CONFIG_DIR / \"production_fallback.yaml\", \"w\") as f:\n",
    "    yaml.safe_dump(dict(nested), f)\n",
    "print(\"✅ Production config saved\")\n"
   ]
  }
 ],
 "metadata": {
  "kernelspec": {
   "display_name": "aignition",
   "language": "python",
   "name": "python3"
  },
  "language_info": {
   "codemirror_mode": {
    "name": "ipython",
    "version": 3
   },
   "file_extension": ".py",
   "mimetype": "text/x-python",
   "name": "python",
   "nbconvert_exporter": "python",
   "pygments_lexer": "ipython3",
   "version": "3.10.16"
  }
 },
 "nbformat": 4,
 "nbformat_minor": 5
}
